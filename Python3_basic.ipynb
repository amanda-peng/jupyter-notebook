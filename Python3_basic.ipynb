{
 "cells": [
  {
   "cell_type": "code",
   "execution_count": 1,
   "metadata": {},
   "outputs": [
    {
     "name": "stdout",
     "output_type": "stream",
     "text": [
      "['False', 'None', 'True', 'and', 'as', 'assert', 'break', 'class', 'continue', 'def', 'del', 'elif', 'else', 'except', 'finally', 'for', 'from', 'global', 'if', 'import', 'in', 'is', 'lambda', 'nonlocal', 'not', 'or', 'pass', 'raise', 'return', 'try', 'while', 'with', 'yield']\n"
     ]
    }
   ],
   "source": [
    "import keyword\n",
    "print(keyword.kwlist)"
   ]
  },
  {
   "cell_type": "code",
   "execution_count": 3,
   "metadata": {},
   "outputs": [
    {
     "name": "stdout",
     "output_type": "stream",
     "text": [
      "hahahatest enter\n"
     ]
    }
   ],
   "source": [
    "'''\n",
    "this is multiple\n",
    "comments'''\n",
    "print('hahaha',end='')\n",
    "print('test enter')"
   ]
  },
  {
   "cell_type": "code",
   "execution_count": 4,
   "metadata": {},
   "outputs": [
    {
     "name": "stdout",
     "output_type": "stream",
     "text": [
      "字符串这是一个句子。这是一个段落，\n",
      "可以由多行组成\n"
     ]
    }
   ],
   "source": [
    "word = '字符串'\n",
    "sentence = \"这是一个句子。\"\n",
    "paragraph = \"\"\"这是一个段落，\n",
    "可以由多行组成\"\"\"\n",
    "print(word+sentence+paragraph)"
   ]
  },
  {
   "cell_type": "code",
   "execution_count": 5,
   "metadata": {},
   "outputs": [
    {
     "name": "stdout",
     "output_type": "stream",
     "text": [
      "runoob\n"
     ]
    }
   ],
   "source": [
    "import sys; x = 'runoob'; sys.stdout.write(x + '\\n')"
   ]
  },
  {
   "cell_type": "code",
   "execution_count": 4,
   "metadata": {},
   "outputs": [
    {
     "name": "stdout",
     "output_type": "stream",
     "text": [
      "================Python import mode==========================\n",
      "命令行参数为:\n",
      "C:\\Python3\\lib\\site-packages\\ipykernel_launcher.py\n",
      "-f\n",
      "C:\\Users\\212328057\\AppData\\Roaming\\jupyter\\runtime\\kernel-d32ab442-1157-430e-8357-1a093f0ded4f.json\n",
      "\n",
      " python 路径为 ['', 'C:\\\\Python3\\\\python36.zip', 'C:\\\\Python3\\\\DLLs', 'C:\\\\Python3\\\\lib', 'C:\\\\Python3', 'C:\\\\Python3\\\\lib\\\\site-packages', 'C:\\\\Python3\\\\lib\\\\site-packages\\\\IPython\\\\extensions', 'C:\\\\Users\\\\212328057\\\\.ipython']\n"
     ]
    }
   ],
   "source": [
    "import sys\n",
    "print('================Python import mode==========================');\n",
    "print ('命令行参数为:')\n",
    "for i in sys.argv:\n",
    "    print (i)\n",
    "print ('\\n python 路径为',sys.path)"
   ]
  },
  {
   "cell_type": "code",
   "execution_count": 3,
   "metadata": {},
   "outputs": [
    {
     "name": "stdout",
     "output_type": "stream",
     "text": [
      "[1, 3, 4, 5]\n",
      "[1, 3, 4, 5]\n"
     ]
    }
   ],
   "source": [
    "L= [1,3,4,5]\n",
    "L1 = L\n",
    "print(L)\n",
    "print(L1)\n"
   ]
  },
  {
   "cell_type": "code",
   "execution_count": 5,
   "metadata": {},
   "outputs": [
    {
     "name": "stdout",
     "output_type": "stream",
     "text": [
      "[]\n",
      "[]\n"
     ]
    }
   ],
   "source": [
    "L= [1,3,4,5]\n",
    "L1 = L\n",
    "L1.clear()\n",
    "print(L)\n",
    "print(L1)\n"
   ]
  },
  {
   "cell_type": "code",
   "execution_count": 8,
   "metadata": {},
   "outputs": [
    {
     "name": "stdout",
     "output_type": "stream",
     "text": [
      "[]\n",
      "[1, 3, 4, 5]\n"
     ]
    }
   ],
   "source": [
    "L= [1,3,4,5]\n",
    "L1 = L.copy()\n",
    "L.clear()\n",
    "print(L)\n",
    "print(L1)\n"
   ]
  },
  {
   "cell_type": "code",
   "execution_count": 13,
   "metadata": {},
   "outputs": [
    {
     "name": "stdout",
     "output_type": "stream",
     "text": [
      "[0, 1, 2, 3, 4, 5, 6, 7, 8, 9, 10, 11, 12, 13, 14]\n",
      "[0, 3, 6, 9, 12]\n"
     ]
    }
   ],
   "source": [
    " l = [i for i in range(0,15)]\n",
    "print (l)\n",
    "print(l[::3])"
   ]
  },
  {
   "cell_type": "code",
   "execution_count": 15,
   "metadata": {},
   "outputs": [
    {
     "name": "stdout",
     "output_type": "stream",
     "text": [
      "{'朝阳': ['国贸', 'CBD', '天阶', '我爱我家', '链接地产'], '海淀': ['圆明园', '苏州街', '中关村', '北京大学'], '昌平': ['沙河', '南口', '小汤山'], '怀柔': ['桃花', '梅花', '大山'], '密云': ['密云A', '密云B', '密云C']}\n",
      "{'朝阳': ['国贸', 'CBD', '天阶', '我爱我家', '链接地产'], '海淀': ['圆明园', '苏州街', '中关村', '北京大学'], '昌平': ['沙河', '南口', '小汤山'], '怀柔': ['桃花', '梅花', '大山']}\n"
     ]
    }
   ],
   "source": [
    "cities = {\n",
    "        '朝阳':['国贸','CBD','天阶','我爱我家','链接地产'],\n",
    "        '海淀':['圆明园','苏州街','中关村','北京大学'],\n",
    "        '昌平':['沙河','南口','小汤山',],\n",
    "        '怀柔':['桃花','梅花','大山'],\n",
    "        '密云':['密云A','密云B','密云C']\n",
    "    }\n",
    "print(cities)\n",
    "cities.popitem()\n",
    "print(cities)"
   ]
  },
  {
   "cell_type": "code",
   "execution_count": 26,
   "metadata": {},
   "outputs": [
    {
     "name": "stdout",
     "output_type": "stream",
     "text": [
      "New Dictionary :{'name': None, 'age': None, 'sex': None}\n",
      "New Dictionary :{'name': 10, 'age': 10, 'sex': 10}\n"
     ]
    },
    {
     "ename": "ValueError",
     "evalue": "too many values to unpack (expected 2)",
     "output_type": "error",
     "traceback": [
      "\u001b[1;31m---------------------------------------------------------------------------\u001b[0m",
      "\u001b[1;31mValueError\u001b[0m                                Traceback (most recent call last)",
      "\u001b[1;32m<ipython-input-26-04b6b5059e12>\u001b[0m in \u001b[0;36m<module>\u001b[1;34m()\u001b[0m\n\u001b[0;32m      6\u001b[0m \u001b[0mdict\u001b[0m \u001b[1;33m=\u001b[0m \u001b[0mdict\u001b[0m\u001b[1;33m.\u001b[0m\u001b[0mfromkeys\u001b[0m\u001b[1;33m(\u001b[0m\u001b[0mseq\u001b[0m\u001b[1;33m,\u001b[0m \u001b[1;36m10\u001b[0m\u001b[1;33m)\u001b[0m\u001b[1;33m\u001b[0m\u001b[0m\n\u001b[0;32m      7\u001b[0m \u001b[0mprint\u001b[0m \u001b[1;33m(\u001b[0m\u001b[1;34m\"New Dictionary :\"\u001b[0m\u001b[1;33m+\u001b[0m\u001b[0mstr\u001b[0m\u001b[1;33m(\u001b[0m\u001b[0mdict\u001b[0m\u001b[1;33m)\u001b[0m\u001b[1;33m)\u001b[0m\u001b[1;33m\u001b[0m\u001b[0m\n\u001b[1;32m----> 8\u001b[1;33m \u001b[1;32mfor\u001b[0m \u001b[0mkey\u001b[0m\u001b[1;33m,\u001b[0m \u001b[0mvalue\u001b[0m \u001b[1;32min\u001b[0m \u001b[0mdict\u001b[0m\u001b[1;33m:\u001b[0m\u001b[1;33m\u001b[0m\u001b[0m\n\u001b[0m\u001b[0;32m      9\u001b[0m     \u001b[0mprint\u001b[0m\u001b[1;33m(\u001b[0m\u001b[0mkey\u001b[0m\u001b[1;33m)\u001b[0m\u001b[1;33m\u001b[0m\u001b[0m\n",
      "\u001b[1;31mValueError\u001b[0m: too many values to unpack (expected 2)"
     ]
    }
   ],
   "source": [
    "seq = ('name', 'age', 'sex')\n",
    "\n",
    "dict = dict.fromkeys(seq)\n",
    "print (\"New Dictionary :\"+str(dict)) # str(dict)\n",
    "\n",
    "dict = dict.fromkeys(seq, 10)\n",
    "print (\"New Dictionary :\"+str(dict))\n",
    "for key, value in dict:\n",
    "    print(key)"
   ]
  },
  {
   "cell_type": "code",
   "execution_count": 23,
   "metadata": {},
   "outputs": [
    {
     "name": "stdout",
     "output_type": "stream",
     "text": [
      "0 1 a\n",
      "48 49 97\n"
     ]
    }
   ],
   "source": [
    "print (chr(0x30), chr(0x31), chr(0x61) )  # 十六进制\n",
    "print ((0x30), (0x31), (0x61) )  "
   ]
  },
  {
   "cell_type": "code",
   "execution_count": 39,
   "metadata": {},
   "outputs": [
    {
     "name": "stdout",
     "output_type": "stream",
     "text": [
      "dict[ a ]= apple\n",
      "dict[ b ]= banana\n",
      "dict[ o ]= orange\n",
      "\n",
      "dict[ a ]= apple\n",
      "dict[ b ]= banana\n",
      "dict[ o ]= orange\n",
      "\n",
      "\n",
      "dict[ a ]= a apple\n",
      "dict[ b ]= b banana\n",
      "dict[ o ]= o orange\n"
     ]
    }
   ],
   "source": [
    "dict={\"a\":\"apple\",\"b\":\"banana\",\"o\":\"orange\"} \n",
    " \n",
    "\n",
    "for i in dict: \n",
    "        print(\"dict[\",i,\"]=\" ,dict[i])\n",
    " \n",
    "print ()\n",
    "for (k,v) in  dict.items(): \n",
    "        print (\"dict[\",k,\"]=\" , v)\n",
    " \n",
    "print ()\n",
    "#for k,v in dict.iteritems(): \n",
    "#        print(\"dict[%s]=\" , k,v)\n",
    " \n",
    "print ()\n",
    "for k,v in zip(dict.keys(),dict.values()): \n",
    "        print (\"dict[\",k,\"]=\" , k,v )"
   ]
  },
  {
   "cell_type": "code",
   "execution_count": 55,
   "metadata": {},
   "outputs": [
    {
     "name": "stdout",
     "output_type": "stream",
     "text": [
      "0x11001100\n",
      "0x110010ff\n",
      "0x11001000\n",
      "0x11000fff\n",
      "0x11000000\n",
      "0x10ffffff\n",
      "0x10000000\n",
      "0xfffffff\n",
      "0x0\n",
      "4\n"
     ]
    }
   ],
   "source": [
    "# -*- coding:utf-8 -*-\n",
    "class Solution:\n",
    "    def NumberOf1(self, n):\n",
    "        # write code here\n",
    "        cnt = 0\n",
    "        if n<0:\n",
    "            n = n & 0xffffffff\n",
    "        while n:\n",
    "            cnt+=1\n",
    "            print(hex(n-1))\n",
    "            n = (n-1) & n\n",
    "            print(hex(n))\n",
    "        return cnt\n",
    "    \n",
    "\n",
    "Sol = Solution()\n",
    "hex_value = 0x11001100\n",
    "print(hex(hex_value))\n",
    "print(Sol.NumberOf1(hex_value))\n"
   ]
  },
  {
   "cell_type": "markdown",
   "metadata": {},
   "source": [
    "# yield usage\n",
    "### yield 的作用就是把一个函数变成一个 generator，带有 yield 的函数不再是一个普通函数，Python 解释器会将其视为一个 generator，调用 fab(5) 不会执行 fab 函数，而是返回一个 iterable 对象！在 for 循环执行时，每次循环都会执行 fab 函数内部的代码，执行到 yield b 时，fab 函数就返回一个迭代值，下次迭代时，代码从 yield b 的下一条语句继续执行，而函数的本地变量看起来和上次中断执行前是完全一样的，于是函数继续执行，直到再次遇到 yield。也可以手动调用 fab(5) 的 next() 方法（因为 fab(5) 是一个 generator 对象，该对象具有 next() 方法），这样我们就可以更清楚地看到 fab 的执行流程"
   ]
  },
  {
   "cell_type": "code",
   "execution_count": 3,
   "metadata": {},
   "outputs": [
    {
     "name": "stdout",
     "output_type": "stream",
     "text": [
      "====== 0 ====\n",
      "1\n",
      "====== 1 ====\n",
      "1\n",
      "====== 1 ====\n",
      "2\n",
      "====== 2 ====\n",
      "3\n",
      "====== 3 ====\n",
      "5\n"
     ]
    }
   ],
   "source": [
    "def fab(max): \n",
    "    n, a, b = 0, 0, 1 \n",
    "    while n < max: \n",
    "        print('======',a,'====')\n",
    "        yield b      # 使用 yield\n",
    "        a, b = b, a + b \n",
    "        n = n + 1\n",
    " \n",
    "for n in fab(5): \n",
    "    print(n)"
   ]
  },
  {
   "cell_type": "markdown",
   "metadata": {},
   "source": [
    "# return 的作用\n",
    "### 在一个 generator function 中，如果没有 return，则默认执行至函数完毕，如果在执行过程中 return，则直接抛出 StopIteration 终止迭代。"
   ]
  },
  {
   "cell_type": "code",
   "execution_count": 4,
   "metadata": {},
   "outputs": [
    {
     "name": "stdout",
     "output_type": "stream",
     "text": [
      "====== 0 ====\n",
      "1\n",
      "====== 1 ====\n",
      "1\n",
      "====== 1 ====\n",
      "2\n"
     ]
    }
   ],
   "source": [
    "def fab(max): \n",
    "    n, a, b = 0, 0, 1 \n",
    "    while n < max: \n",
    "        print('======',a,'====')\n",
    "        yield b      # 使用 yield\n",
    "        a, b = b, a + b \n",
    "        n = n + 1\n",
    "        if n==3:\n",
    "            return\n",
    " \n",
    "for n in fab(5): \n",
    "    print(n)"
   ]
  },
  {
   "cell_type": "markdown",
   "metadata": {},
   "source": [
    "http://www.runoob.com/python3/python3-iterator-generator.html"
   ]
  },
  {
   "cell_type": "code",
   "execution_count": 5,
   "metadata": {},
   "outputs": [
    {
     "ename": "SyntaxError",
     "evalue": "non-default argument follows default argument (<ipython-input-5-fa7989687029>, line 1)",
     "output_type": "error",
     "traceback": [
      "\u001b[1;36m  File \u001b[1;32m\"<ipython-input-5-fa7989687029>\"\u001b[1;36m, line \u001b[1;32m1\u001b[0m\n\u001b[1;33m    def printinfo( age=35,name):   # 默认参数不在最后，会报错\u001b[0m\n\u001b[1;37m                  ^\u001b[0m\n\u001b[1;31mSyntaxError\u001b[0m\u001b[1;31m:\u001b[0m non-default argument follows default argument\n"
     ]
    }
   ],
   "source": [
    "def printinfo( age=35,name):   # 默认参数不在最后，会报错\n",
    "    \"打印任何传入的字符串\"\n",
    "    print(\"名字: \", name);\n",
    "    print(\"年龄: \", age);\n",
    "    return;"
   ]
  },
  {
   "cell_type": "code",
   "execution_count": 6,
   "metadata": {},
   "outputs": [
    {
     "name": "stdout",
     "output_type": "stream",
     "text": [
      "China Sichuan {'city': 'Chengdu', 'section': 'JingJiang'}\n"
     ]
    }
   ],
   "source": [
    "def func(country,province,**kwargs):\n",
    "    print(country,province,kwargs)\n",
    "func(\"China\",\"Sichuan\",city = \"Chengdu\", section = \"JingJiang\")"
   ]
  },
  {
   "cell_type": "code",
   "execution_count": 7,
   "metadata": {
    "scrolled": true
   },
   "outputs": [
    {
     "ename": "UnboundLocalError",
     "evalue": "local variable 'a' referenced before assignment",
     "output_type": "error",
     "traceback": [
      "\u001b[1;31m---------------------------------------------------------------------------\u001b[0m",
      "\u001b[1;31mUnboundLocalError\u001b[0m                         Traceback (most recent call last)",
      "\u001b[1;32m<ipython-input-7-4212688e84b0>\u001b[0m in \u001b[0;36m<module>\u001b[1;34m()\u001b[0m\n\u001b[0;32m      3\u001b[0m     \u001b[0ma\u001b[0m \u001b[1;33m=\u001b[0m \u001b[0ma\u001b[0m \u001b[1;33m+\u001b[0m \u001b[1;36m1\u001b[0m\u001b[1;33m\u001b[0m\u001b[0m\n\u001b[0;32m      4\u001b[0m     \u001b[0mprint\u001b[0m\u001b[1;33m(\u001b[0m\u001b[0ma\u001b[0m\u001b[1;33m)\u001b[0m\u001b[1;33m\u001b[0m\u001b[0m\n\u001b[1;32m----> 5\u001b[1;33m \u001b[0mtest\u001b[0m\u001b[1;33m(\u001b[0m\u001b[1;33m)\u001b[0m\u001b[1;33m\u001b[0m\u001b[0m\n\u001b[0m",
      "\u001b[1;32m<ipython-input-7-4212688e84b0>\u001b[0m in \u001b[0;36mtest\u001b[1;34m()\u001b[0m\n\u001b[0;32m      1\u001b[0m \u001b[0ma\u001b[0m \u001b[1;33m=\u001b[0m \u001b[1;36m10\u001b[0m\u001b[1;33m\u001b[0m\u001b[0m\n\u001b[0;32m      2\u001b[0m \u001b[1;32mdef\u001b[0m \u001b[0mtest\u001b[0m\u001b[1;33m(\u001b[0m\u001b[1;33m)\u001b[0m\u001b[1;33m:\u001b[0m\u001b[1;33m\u001b[0m\u001b[0m\n\u001b[1;32m----> 3\u001b[1;33m     \u001b[0ma\u001b[0m \u001b[1;33m=\u001b[0m \u001b[0ma\u001b[0m \u001b[1;33m+\u001b[0m \u001b[1;36m1\u001b[0m\u001b[1;33m\u001b[0m\u001b[0m\n\u001b[0m\u001b[0;32m      4\u001b[0m     \u001b[0mprint\u001b[0m\u001b[1;33m(\u001b[0m\u001b[0ma\u001b[0m\u001b[1;33m)\u001b[0m\u001b[1;33m\u001b[0m\u001b[0m\n\u001b[0;32m      5\u001b[0m \u001b[0mtest\u001b[0m\u001b[1;33m(\u001b[0m\u001b[1;33m)\u001b[0m\u001b[1;33m\u001b[0m\u001b[0m\n",
      "\u001b[1;31mUnboundLocalError\u001b[0m: local variable 'a' referenced before assignment"
     ]
    }
   ],
   "source": [
    "a = 10\n",
    "def test():\n",
    "    a = a + 1\n",
    "    print(a)\n",
    "test()"
   ]
  },
  {
   "cell_type": "markdown",
   "metadata": {},
   "source": [
    "### 在上面的例子中， a在test函数中声明，所以被认为是局部变量。在等号右边再调用的时候，会认为在局部作用域没有找到变量a\n",
    "\n",
    "### 在下面的例子中，尽管变量b没有在局部声明赋值，但是当调用函数找不到变量b时，会按照L –> E –> G –>B 的规则查找，即：在局部找不到，便会去局部外的局部找（例如闭包），再找不到就会去全局找，再者去内建中找。"
   ]
  },
  {
   "cell_type": "code",
   "execution_count": 11,
   "metadata": {},
   "outputs": [
    {
     "name": "stdout",
     "output_type": "stream",
     "text": [
      "1\n",
      "11\n",
      "11\n"
     ]
    }
   ],
   "source": [
    "b=1\n",
    "def test(a):\n",
    "    c=a+b\n",
    "    print(c)\n",
    "    return c\n",
    "\n",
    "print(b)\n",
    "print(test(10))"
   ]
  },
  {
   "cell_type": "code",
   "execution_count": 12,
   "metadata": {},
   "outputs": [
    {
     "name": "stdout",
     "output_type": "stream",
     "text": [
      "函数内取值:  [1, 2, 3, 4]\n",
      "函数外取值:  [10, 20, 30]\n"
     ]
    }
   ],
   "source": [
    "def changeme( mylist ):\n",
    "   \"修改传入的列表\"\n",
    "   mylist = [1,2,3,4];\n",
    "   print (\"函数内取值: \", mylist)\n",
    "   return\n",
    " \n",
    "# 调用changeme函数\n",
    "mylist = [10,20,30];\n",
    "changeme( mylist );\n",
    "print (\"函数外取值: \", mylist)"
   ]
  },
  {
   "cell_type": "code",
   "execution_count": 22,
   "metadata": {},
   "outputs": [
    {
     "name": "stdout",
     "output_type": "stream",
     "text": [
      "[('5', '6', '7'), ('2', '5', '10'), ('2', '4', '10'), ('2', '3', '10'), ('1', '2', '3')]\n"
     ]
    }
   ],
   "source": [
    "alist = [('2', '3', '10'), ('1', '2', '3'), ('5', '6', '7'), ('2', '5', '10'), ('2', '4', '10')]\n",
    "a = [66.25, 333, 333, 1, 1234.5]\n",
    "a.sort()\n",
    "alist.sort(reverse=True)\n",
    "print(alist)"
   ]
  },
  {
   "cell_type": "code",
   "execution_count": 24,
   "metadata": {},
   "outputs": [
    {
     "name": "stdout",
     "output_type": "stream",
     "text": [
      "824691357CBAcba\n"
     ]
    }
   ],
   "source": [
    "s='9a13C85c7B24A6b' #正确的顺序应该为：abcABC135792468\n",
    "lis=sorted(s,key=lambda x:(x.isdigit(),x.isdigit() and int(x)%2==0,x.isalpha() and x.isupper(),x.isalpha() and x.lower()),reverse=True)\n",
    "print(''.join(lis))"
   ]
  },
  {
   "cell_type": "code",
   "execution_count": 32,
   "metadata": {},
   "outputs": [
    {
     "name": "stdout",
     "output_type": "stream",
     "text": [
      "[(True, False, False, False), (False, False, False, True), (True, False, False, False), (True, False, False, False), (False, False, True, False), (True, True, False, False), (True, False, False, False), (False, False, False, True), (True, False, False, False), (False, False, True, False), (True, True, False, False), (True, True, False, False), (False, False, True, False), (True, True, False, False), (False, False, False, True)]\n",
      "===========\n",
      "(False, False, False, True)\n",
      "(False, False, False, True)\n",
      "(False, False, False, True)\n",
      "(False, False, True, False)\n",
      "(False, False, True, False)\n",
      "(False, False, True, False)\n",
      "(True, False, False, False)\n",
      "(True, False, False, False)\n",
      "(True, False, False, False)\n",
      "(True, False, False, False)\n",
      "(True, False, False, False)\n",
      "(True, True, False, False)\n",
      "(True, True, False, False)\n",
      "(True, True, False, False)\n",
      "(True, True, False, False)\n"
     ]
    }
   ],
   "source": [
    "s='9a13C85c7B24A6b' #正确的顺序应该为：abcABC135792468\n",
    "t={}\n",
    "l=[]\n",
    "check = lambda x:(x.isdigit(),x.isdigit() and int(x)%2==0,x.isalpha() and x.isupper(),x.isalpha() and x.islower())\n",
    "idx=0\n",
    "for i in s:\n",
    "    #idx+=1\n",
    "    #t[idx]=check(i)\n",
    "    l.append(check(i))\n",
    "    \n",
    "print(l)   \n",
    "print('===========')\n",
    "l.sort()\n",
    "for li in l:\n",
    "    print(li)\n",
    "    "
   ]
  },
  {
   "cell_type": "code",
   "execution_count": null,
   "metadata": {},
   "outputs": [],
   "source": []
  }
 ],
 "metadata": {
  "kernelspec": {
   "display_name": "Python 3",
   "language": "python",
   "name": "python3"
  },
  "language_info": {
   "codemirror_mode": {
    "name": "ipython",
    "version": 3
   },
   "file_extension": ".py",
   "mimetype": "text/x-python",
   "name": "python",
   "nbconvert_exporter": "python",
   "pygments_lexer": "ipython3",
   "version": "3.6.4"
  }
 },
 "nbformat": 4,
 "nbformat_minor": 2
}
