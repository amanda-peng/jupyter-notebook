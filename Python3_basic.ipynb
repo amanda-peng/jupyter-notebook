{
 "cells": [
  {
   "cell_type": "code",
   "execution_count": 1,
   "metadata": {},
   "outputs": [
    {
     "name": "stdout",
     "output_type": "stream",
     "text": [
      "['False', 'None', 'True', 'and', 'as', 'assert', 'break', 'class', 'continue', 'def', 'del', 'elif', 'else', 'except', 'finally', 'for', 'from', 'global', 'if', 'import', 'in', 'is', 'lambda', 'nonlocal', 'not', 'or', 'pass', 'raise', 'return', 'try', 'while', 'with', 'yield']\n"
     ]
    }
   ],
   "source": [
    "import keyword\n",
    "print(keyword.kwlist)"
   ]
  },
  {
   "cell_type": "code",
   "execution_count": 3,
   "metadata": {},
   "outputs": [
    {
     "name": "stdout",
     "output_type": "stream",
     "text": [
      "hahahatest enter\n"
     ]
    }
   ],
   "source": [
    "'''\n",
    "this is multiple\n",
    "comments'''\n",
    "print('hahaha',end='')\n",
    "print('test enter')"
   ]
  },
  {
   "cell_type": "code",
   "execution_count": 4,
   "metadata": {},
   "outputs": [
    {
     "name": "stdout",
     "output_type": "stream",
     "text": [
      "字符串这是一个句子。这是一个段落，\n",
      "可以由多行组成\n"
     ]
    }
   ],
   "source": [
    "word = '字符串'\n",
    "sentence = \"这是一个句子。\"\n",
    "paragraph = \"\"\"这是一个段落，\n",
    "可以由多行组成\"\"\"\n",
    "print(word+sentence+paragraph)"
   ]
  },
  {
   "cell_type": "code",
   "execution_count": 5,
   "metadata": {},
   "outputs": [
    {
     "name": "stdout",
     "output_type": "stream",
     "text": [
      "runoob\n"
     ]
    }
   ],
   "source": [
    "import sys; x = 'runoob'; sys.stdout.write(x + '\\n')"
   ]
  },
  {
   "cell_type": "code",
   "execution_count": 4,
   "metadata": {},
   "outputs": [
    {
     "name": "stdout",
     "output_type": "stream",
     "text": [
      "================Python import mode==========================\n",
      "命令行参数为:\n",
      "C:\\Python3\\lib\\site-packages\\ipykernel_launcher.py\n",
      "-f\n",
      "C:\\Users\\212328057\\AppData\\Roaming\\jupyter\\runtime\\kernel-d32ab442-1157-430e-8357-1a093f0ded4f.json\n",
      "\n",
      " python 路径为 ['', 'C:\\\\Python3\\\\python36.zip', 'C:\\\\Python3\\\\DLLs', 'C:\\\\Python3\\\\lib', 'C:\\\\Python3', 'C:\\\\Python3\\\\lib\\\\site-packages', 'C:\\\\Python3\\\\lib\\\\site-packages\\\\IPython\\\\extensions', 'C:\\\\Users\\\\212328057\\\\.ipython']\n"
     ]
    }
   ],
   "source": [
    "import sys\n",
    "print('================Python import mode==========================');\n",
    "print ('命令行参数为:')\n",
    "for i in sys.argv:\n",
    "    print (i)\n",
    "print ('\\n python 路径为',sys.path)"
   ]
  },
  {
   "cell_type": "code",
   "execution_count": 3,
   "metadata": {},
   "outputs": [
    {
     "name": "stdout",
     "output_type": "stream",
     "text": [
      "[1, 3, 4, 5]\n",
      "[1, 3, 4, 5]\n"
     ]
    }
   ],
   "source": [
    "L= [1,3,4,5]\n",
    "L1 = L\n",
    "print(L)\n",
    "print(L1)\n"
   ]
  },
  {
   "cell_type": "code",
   "execution_count": 5,
   "metadata": {},
   "outputs": [
    {
     "name": "stdout",
     "output_type": "stream",
     "text": [
      "[]\n",
      "[]\n"
     ]
    }
   ],
   "source": [
    "L= [1,3,4,5]\n",
    "L1 = L\n",
    "L1.clear()\n",
    "print(L)\n",
    "print(L1)\n"
   ]
  },
  {
   "cell_type": "code",
   "execution_count": 8,
   "metadata": {},
   "outputs": [
    {
     "name": "stdout",
     "output_type": "stream",
     "text": [
      "[]\n",
      "[1, 3, 4, 5]\n"
     ]
    }
   ],
   "source": [
    "L= [1,3,4,5]\n",
    "L1 = L.copy()\n",
    "L.clear()\n",
    "print(L)\n",
    "print(L1)\n"
   ]
  },
  {
   "cell_type": "code",
   "execution_count": 13,
   "metadata": {},
   "outputs": [
    {
     "name": "stdout",
     "output_type": "stream",
     "text": [
      "[0, 1, 2, 3, 4, 5, 6, 7, 8, 9, 10, 11, 12, 13, 14]\n",
      "[0, 3, 6, 9, 12]\n"
     ]
    }
   ],
   "source": [
    " l = [i for i in range(0,15)]\n",
    "print (l)\n",
    "print(l[::3])"
   ]
  },
  {
   "cell_type": "code",
   "execution_count": 15,
   "metadata": {},
   "outputs": [
    {
     "name": "stdout",
     "output_type": "stream",
     "text": [
      "{'朝阳': ['国贸', 'CBD', '天阶', '我爱我家', '链接地产'], '海淀': ['圆明园', '苏州街', '中关村', '北京大学'], '昌平': ['沙河', '南口', '小汤山'], '怀柔': ['桃花', '梅花', '大山'], '密云': ['密云A', '密云B', '密云C']}\n",
      "{'朝阳': ['国贸', 'CBD', '天阶', '我爱我家', '链接地产'], '海淀': ['圆明园', '苏州街', '中关村', '北京大学'], '昌平': ['沙河', '南口', '小汤山'], '怀柔': ['桃花', '梅花', '大山']}\n"
     ]
    }
   ],
   "source": [
    "cities = {\n",
    "        '朝阳':['国贸','CBD','天阶','我爱我家','链接地产'],\n",
    "        '海淀':['圆明园','苏州街','中关村','北京大学'],\n",
    "        '昌平':['沙河','南口','小汤山',],\n",
    "        '怀柔':['桃花','梅花','大山'],\n",
    "        '密云':['密云A','密云B','密云C']\n",
    "    }\n",
    "print(cities)\n",
    "cities.popitem()\n",
    "print(cities)"
   ]
  },
  {
   "cell_type": "code",
   "execution_count": 26,
   "metadata": {},
   "outputs": [
    {
     "name": "stdout",
     "output_type": "stream",
     "text": [
      "New Dictionary :{'name': None, 'age': None, 'sex': None}\n",
      "New Dictionary :{'name': 10, 'age': 10, 'sex': 10}\n"
     ]
    },
    {
     "ename": "ValueError",
     "evalue": "too many values to unpack (expected 2)",
     "output_type": "error",
     "traceback": [
      "\u001b[1;31m---------------------------------------------------------------------------\u001b[0m",
      "\u001b[1;31mValueError\u001b[0m                                Traceback (most recent call last)",
      "\u001b[1;32m<ipython-input-26-04b6b5059e12>\u001b[0m in \u001b[0;36m<module>\u001b[1;34m()\u001b[0m\n\u001b[0;32m      6\u001b[0m \u001b[0mdict\u001b[0m \u001b[1;33m=\u001b[0m \u001b[0mdict\u001b[0m\u001b[1;33m.\u001b[0m\u001b[0mfromkeys\u001b[0m\u001b[1;33m(\u001b[0m\u001b[0mseq\u001b[0m\u001b[1;33m,\u001b[0m \u001b[1;36m10\u001b[0m\u001b[1;33m)\u001b[0m\u001b[1;33m\u001b[0m\u001b[0m\n\u001b[0;32m      7\u001b[0m \u001b[0mprint\u001b[0m \u001b[1;33m(\u001b[0m\u001b[1;34m\"New Dictionary :\"\u001b[0m\u001b[1;33m+\u001b[0m\u001b[0mstr\u001b[0m\u001b[1;33m(\u001b[0m\u001b[0mdict\u001b[0m\u001b[1;33m)\u001b[0m\u001b[1;33m)\u001b[0m\u001b[1;33m\u001b[0m\u001b[0m\n\u001b[1;32m----> 8\u001b[1;33m \u001b[1;32mfor\u001b[0m \u001b[0mkey\u001b[0m\u001b[1;33m,\u001b[0m \u001b[0mvalue\u001b[0m \u001b[1;32min\u001b[0m \u001b[0mdict\u001b[0m\u001b[1;33m:\u001b[0m\u001b[1;33m\u001b[0m\u001b[0m\n\u001b[0m\u001b[0;32m      9\u001b[0m     \u001b[0mprint\u001b[0m\u001b[1;33m(\u001b[0m\u001b[0mkey\u001b[0m\u001b[1;33m)\u001b[0m\u001b[1;33m\u001b[0m\u001b[0m\n",
      "\u001b[1;31mValueError\u001b[0m: too many values to unpack (expected 2)"
     ]
    }
   ],
   "source": [
    "seq = ('name', 'age', 'sex')\n",
    "\n",
    "dict = dict.fromkeys(seq)\n",
    "print (\"New Dictionary :\"+str(dict)) # str(dict)\n",
    "\n",
    "dict = dict.fromkeys(seq, 10)\n",
    "print (\"New Dictionary :\"+str(dict))\n",
    "for key, value in dict:\n",
    "    print(key)"
   ]
  },
  {
   "cell_type": "code",
   "execution_count": 23,
   "metadata": {},
   "outputs": [
    {
     "name": "stdout",
     "output_type": "stream",
     "text": [
      "0 1 a\n",
      "48 49 97\n"
     ]
    }
   ],
   "source": [
    "print (chr(0x30), chr(0x31), chr(0x61) )  # 十六进制\n",
    "print ((0x30), (0x31), (0x61) )  "
   ]
  },
  {
   "cell_type": "code",
   "execution_count": 39,
   "metadata": {},
   "outputs": [
    {
     "name": "stdout",
     "output_type": "stream",
     "text": [
      "dict[ a ]= apple\n",
      "dict[ b ]= banana\n",
      "dict[ o ]= orange\n",
      "\n",
      "dict[ a ]= apple\n",
      "dict[ b ]= banana\n",
      "dict[ o ]= orange\n",
      "\n",
      "\n",
      "dict[ a ]= a apple\n",
      "dict[ b ]= b banana\n",
      "dict[ o ]= o orange\n"
     ]
    }
   ],
   "source": [
    "dict={\"a\":\"apple\",\"b\":\"banana\",\"o\":\"orange\"} \n",
    " \n",
    "\n",
    "for i in dict: \n",
    "        print(\"dict[\",i,\"]=\" ,dict[i])\n",
    " \n",
    "print ()\n",
    "for (k,v) in  dict.items(): \n",
    "        print (\"dict[\",k,\"]=\" , v)\n",
    " \n",
    "print ()\n",
    "#for k,v in dict.iteritems(): \n",
    "#        print(\"dict[%s]=\" , k,v)\n",
    " \n",
    "print ()\n",
    "for k,v in zip(dict.keys(),dict.values()): \n",
    "        print (\"dict[\",k,\"]=\" , k,v )"
   ]
  },
  {
   "cell_type": "code",
   "execution_count": 55,
   "metadata": {},
   "outputs": [
    {
     "name": "stdout",
     "output_type": "stream",
     "text": [
      "0x11001100\n",
      "0x110010ff\n",
      "0x11001000\n",
      "0x11000fff\n",
      "0x11000000\n",
      "0x10ffffff\n",
      "0x10000000\n",
      "0xfffffff\n",
      "0x0\n",
      "4\n"
     ]
    }
   ],
   "source": [
    "# -*- coding:utf-8 -*-\n",
    "class Solution:\n",
    "    def NumberOf1(self, n):\n",
    "        # write code here\n",
    "        cnt = 0\n",
    "        if n<0:\n",
    "            n = n & 0xffffffff\n",
    "        while n:\n",
    "            cnt+=1\n",
    "            print(hex(n-1))\n",
    "            n = (n-1) & n\n",
    "            print(hex(n))\n",
    "        return cnt\n",
    "    \n",
    "\n",
    "Sol = Solution()\n",
    "hex_value = 0x11001100\n",
    "print(hex(hex_value))\n",
    "print(Sol.NumberOf1(hex_value))\n"
   ]
  },
  {
   "cell_type": "code",
   "execution_count": null,
   "metadata": {},
   "outputs": [],
   "source": []
  }
 ],
 "metadata": {
  "kernelspec": {
   "display_name": "Python 3",
   "language": "python",
   "name": "python3"
  },
  "language_info": {
   "codemirror_mode": {
    "name": "ipython",
    "version": 3
   },
   "file_extension": ".py",
   "mimetype": "text/x-python",
   "name": "python",
   "nbconvert_exporter": "python",
   "pygments_lexer": "ipython3",
   "version": "3.6.4"
  }
 },
 "nbformat": 4,
 "nbformat_minor": 2
}
